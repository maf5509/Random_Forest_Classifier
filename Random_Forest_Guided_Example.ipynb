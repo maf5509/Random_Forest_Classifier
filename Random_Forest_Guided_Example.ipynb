{
 "cells": [
  {
   "cell_type": "code",
   "execution_count": 6,
   "metadata": {
    "collapsed": true
   },
   "outputs": [],
   "source": [
    "import pandas as pd\n",
    "import matplotlib.pyplot as plt\n",
    "import numpy as np\n",
    "%matplotlib inline\n",
    "import time"
   ]
  },
  {
   "cell_type": "markdown",
   "metadata": {},
   "source": [
    "### The Task - To Analyze and Simplify a Commercial Loan Dataset\n",
    "The dataset comes from a loan company, and has some 421,000 rows, and 111 columns. We will try to reduce this number of variables using the Random Forest Classifier and the Principal Components Analysis (PCA)."
   ]
  },
  {
   "cell_type": "markdown",
   "metadata": {},
   "source": [
    "### Import and Initial Data Manipulation"
   ]
  },
  {
   "cell_type": "code",
   "execution_count": 7,
   "metadata": {},
   "outputs": [
    {
     "name": "stderr",
     "output_type": "stream",
     "text": [
      "C:\\Users\\fergu\\Anaconda3\\lib\\site-packages\\IPython\\core\\interactiveshell.py:2698: DtypeWarning: Columns (0,19,55) have mixed types. Specify dtype option on import or set low_memory=False.\n",
      "  interactivity=interactivity, compiler=compiler, result=result)\n"
     ]
    }
   ],
   "source": [
    "y2015 = pd.read_csv('C://Users//fergu//LoanStats3d_2.csv', skiprows=1)"
   ]
  },
  {
   "cell_type": "code",
   "execution_count": 8,
   "metadata": {},
   "outputs": [
    {
     "data": {
      "text/html": [
       "<div>\n",
       "<style>\n",
       "    .dataframe thead tr:only-child th {\n",
       "        text-align: right;\n",
       "    }\n",
       "\n",
       "    .dataframe thead th {\n",
       "        text-align: left;\n",
       "    }\n",
       "\n",
       "    .dataframe tbody tr th {\n",
       "        vertical-align: top;\n",
       "    }\n",
       "</style>\n",
       "<table border=\"1\" class=\"dataframe\">\n",
       "  <thead>\n",
       "    <tr style=\"text-align: right;\">\n",
       "      <th></th>\n",
       "      <th>id</th>\n",
       "      <th>member_id</th>\n",
       "      <th>loan_amnt</th>\n",
       "      <th>funded_amnt</th>\n",
       "      <th>funded_amnt_inv</th>\n",
       "      <th>term</th>\n",
       "      <th>int_rate</th>\n",
       "      <th>installment</th>\n",
       "      <th>grade</th>\n",
       "      <th>sub_grade</th>\n",
       "      <th>...</th>\n",
       "      <th>num_tl_90g_dpd_24m</th>\n",
       "      <th>num_tl_op_past_12m</th>\n",
       "      <th>pct_tl_nvr_dlq</th>\n",
       "      <th>percent_bc_gt_75</th>\n",
       "      <th>pub_rec_bankruptcies</th>\n",
       "      <th>tax_liens</th>\n",
       "      <th>tot_hi_cred_lim</th>\n",
       "      <th>total_bal_ex_mort</th>\n",
       "      <th>total_bc_limit</th>\n",
       "      <th>total_il_high_credit_limit</th>\n",
       "    </tr>\n",
       "  </thead>\n",
       "  <tbody>\n",
       "    <tr>\n",
       "      <th>0</th>\n",
       "      <td>68009401</td>\n",
       "      <td>72868139.0</td>\n",
       "      <td>16000.0</td>\n",
       "      <td>16000.0</td>\n",
       "      <td>16000.0</td>\n",
       "      <td>60 months</td>\n",
       "      <td>14.85%</td>\n",
       "      <td>379.39</td>\n",
       "      <td>C</td>\n",
       "      <td>C5</td>\n",
       "      <td>...</td>\n",
       "      <td>0.0</td>\n",
       "      <td>2.0</td>\n",
       "      <td>78.9</td>\n",
       "      <td>0.0</td>\n",
       "      <td>0.0</td>\n",
       "      <td>2.0</td>\n",
       "      <td>298100.0</td>\n",
       "      <td>31329.0</td>\n",
       "      <td>281300.0</td>\n",
       "      <td>13400.0</td>\n",
       "    </tr>\n",
       "    <tr>\n",
       "      <th>1</th>\n",
       "      <td>68354783</td>\n",
       "      <td>73244544.0</td>\n",
       "      <td>9600.0</td>\n",
       "      <td>9600.0</td>\n",
       "      <td>9600.0</td>\n",
       "      <td>36 months</td>\n",
       "      <td>7.49%</td>\n",
       "      <td>298.58</td>\n",
       "      <td>A</td>\n",
       "      <td>A4</td>\n",
       "      <td>...</td>\n",
       "      <td>0.0</td>\n",
       "      <td>2.0</td>\n",
       "      <td>100.0</td>\n",
       "      <td>66.7</td>\n",
       "      <td>0.0</td>\n",
       "      <td>0.0</td>\n",
       "      <td>88635.0</td>\n",
       "      <td>55387.0</td>\n",
       "      <td>12500.0</td>\n",
       "      <td>75635.0</td>\n",
       "    </tr>\n",
       "    <tr>\n",
       "      <th>2</th>\n",
       "      <td>68466916</td>\n",
       "      <td>73356753.0</td>\n",
       "      <td>25000.0</td>\n",
       "      <td>25000.0</td>\n",
       "      <td>25000.0</td>\n",
       "      <td>36 months</td>\n",
       "      <td>7.49%</td>\n",
       "      <td>777.55</td>\n",
       "      <td>A</td>\n",
       "      <td>A4</td>\n",
       "      <td>...</td>\n",
       "      <td>0.0</td>\n",
       "      <td>0.0</td>\n",
       "      <td>100.0</td>\n",
       "      <td>20.0</td>\n",
       "      <td>0.0</td>\n",
       "      <td>0.0</td>\n",
       "      <td>373572.0</td>\n",
       "      <td>68056.0</td>\n",
       "      <td>38400.0</td>\n",
       "      <td>82117.0</td>\n",
       "    </tr>\n",
       "    <tr>\n",
       "      <th>3</th>\n",
       "      <td>68466961</td>\n",
       "      <td>73356799.0</td>\n",
       "      <td>28000.0</td>\n",
       "      <td>28000.0</td>\n",
       "      <td>28000.0</td>\n",
       "      <td>36 months</td>\n",
       "      <td>6.49%</td>\n",
       "      <td>858.05</td>\n",
       "      <td>A</td>\n",
       "      <td>A2</td>\n",
       "      <td>...</td>\n",
       "      <td>0.0</td>\n",
       "      <td>0.0</td>\n",
       "      <td>91.7</td>\n",
       "      <td>22.2</td>\n",
       "      <td>0.0</td>\n",
       "      <td>0.0</td>\n",
       "      <td>304003.0</td>\n",
       "      <td>74920.0</td>\n",
       "      <td>41500.0</td>\n",
       "      <td>42503.0</td>\n",
       "    </tr>\n",
       "    <tr>\n",
       "      <th>4</th>\n",
       "      <td>68495092</td>\n",
       "      <td>73384866.0</td>\n",
       "      <td>8650.0</td>\n",
       "      <td>8650.0</td>\n",
       "      <td>8650.0</td>\n",
       "      <td>36 months</td>\n",
       "      <td>19.89%</td>\n",
       "      <td>320.99</td>\n",
       "      <td>E</td>\n",
       "      <td>E3</td>\n",
       "      <td>...</td>\n",
       "      <td>0.0</td>\n",
       "      <td>12.0</td>\n",
       "      <td>100.0</td>\n",
       "      <td>50.0</td>\n",
       "      <td>1.0</td>\n",
       "      <td>0.0</td>\n",
       "      <td>38998.0</td>\n",
       "      <td>18926.0</td>\n",
       "      <td>2750.0</td>\n",
       "      <td>18248.0</td>\n",
       "    </tr>\n",
       "  </tbody>\n",
       "</table>\n",
       "<p>5 rows × 111 columns</p>\n",
       "</div>"
      ],
      "text/plain": [
       "         id   member_id  loan_amnt  funded_amnt  funded_amnt_inv        term  \\\n",
       "0  68009401  72868139.0    16000.0      16000.0          16000.0   60 months   \n",
       "1  68354783  73244544.0     9600.0       9600.0           9600.0   36 months   \n",
       "2  68466916  73356753.0    25000.0      25000.0          25000.0   36 months   \n",
       "3  68466961  73356799.0    28000.0      28000.0          28000.0   36 months   \n",
       "4  68495092  73384866.0     8650.0       8650.0           8650.0   36 months   \n",
       "\n",
       "  int_rate  installment grade sub_grade            ...              \\\n",
       "0   14.85%       379.39     C        C5            ...               \n",
       "1    7.49%       298.58     A        A4            ...               \n",
       "2    7.49%       777.55     A        A4            ...               \n",
       "3    6.49%       858.05     A        A2            ...               \n",
       "4   19.89%       320.99     E        E3            ...               \n",
       "\n",
       "  num_tl_90g_dpd_24m num_tl_op_past_12m pct_tl_nvr_dlq  percent_bc_gt_75  \\\n",
       "0                0.0                2.0           78.9               0.0   \n",
       "1                0.0                2.0          100.0              66.7   \n",
       "2                0.0                0.0          100.0              20.0   \n",
       "3                0.0                0.0           91.7              22.2   \n",
       "4                0.0               12.0          100.0              50.0   \n",
       "\n",
       "  pub_rec_bankruptcies tax_liens tot_hi_cred_lim total_bal_ex_mort  \\\n",
       "0                  0.0       2.0        298100.0           31329.0   \n",
       "1                  0.0       0.0         88635.0           55387.0   \n",
       "2                  0.0       0.0        373572.0           68056.0   \n",
       "3                  0.0       0.0        304003.0           74920.0   \n",
       "4                  1.0       0.0         38998.0           18926.0   \n",
       "\n",
       "  total_bc_limit total_il_high_credit_limit  \n",
       "0       281300.0                    13400.0  \n",
       "1        12500.0                    75635.0  \n",
       "2        38400.0                    82117.0  \n",
       "3        41500.0                    42503.0  \n",
       "4         2750.0                    18248.0  \n",
       "\n",
       "[5 rows x 111 columns]"
      ]
     },
     "execution_count": 8,
     "metadata": {},
     "output_type": "execute_result"
    }
   ],
   "source": [
    "y2015.head()"
   ]
  },
  {
   "cell_type": "code",
   "execution_count": 9,
   "metadata": {},
   "outputs": [
    {
     "data": {
      "text/plain": [
       "(421097, 111)"
      ]
     },
     "execution_count": 9,
     "metadata": {},
     "output_type": "execute_result"
    }
   ],
   "source": [
    "y2015.shape"
   ]
  },
  {
   "cell_type": "code",
   "execution_count": 10,
   "metadata": {
    "collapsed": true
   },
   "outputs": [],
   "source": [
    "# Will give memory error because of the sheer number of different\n",
    "# distinct data values in the table for some of the columns  \n",
    "\n",
    "#from sklearn import ensemble\n",
    "#from sklearn.model_selection import cross_val_score\n",
    "#\n",
    "#randforestclass = ensemble.RandomForestClassifier()\n",
    "#X = y2015.drop('loan_status', axis=1)\n",
    "#Y = y2015['loan_status']\n",
    "#X = pd.get_dummies(X)\n",
    "#X.head()"
   ]
  },
  {
   "cell_type": "code",
   "execution_count": 11,
   "metadata": {
    "collapsed": true
   },
   "outputs": [],
   "source": [
    "# Convert ID and Interest Rate to numeric.\n",
    "y2015['id'] = pd.to_numeric(y2015['id'], errors='coerce')\n",
    "y2015['int_rate'] = pd.to_numeric(y2015['int_rate'].str.strip('%'), errors='coerce')\n",
    "\n",
    "# Drop other columns with many unique variables\n",
    "y2015.drop(['url', 'emp_title', 'zip_code', 'earliest_cr_line', 'revol_util',\n",
    "            'sub_grade', 'addr_state', 'desc'], 1, inplace=True)"
   ]
  },
  {
   "cell_type": "code",
   "execution_count": 12,
   "metadata": {},
   "outputs": [
    {
     "data": {
      "text/html": [
       "<div>\n",
       "<style>\n",
       "    .dataframe thead tr:only-child th {\n",
       "        text-align: right;\n",
       "    }\n",
       "\n",
       "    .dataframe thead th {\n",
       "        text-align: left;\n",
       "    }\n",
       "\n",
       "    .dataframe tbody tr th {\n",
       "        vertical-align: top;\n",
       "    }\n",
       "</style>\n",
       "<table border=\"1\" class=\"dataframe\">\n",
       "  <thead>\n",
       "    <tr style=\"text-align: right;\">\n",
       "      <th></th>\n",
       "      <th>id</th>\n",
       "      <th>member_id</th>\n",
       "      <th>loan_amnt</th>\n",
       "      <th>funded_amnt</th>\n",
       "      <th>funded_amnt_inv</th>\n",
       "      <th>term</th>\n",
       "      <th>int_rate</th>\n",
       "      <th>installment</th>\n",
       "      <th>grade</th>\n",
       "      <th>emp_length</th>\n",
       "      <th>...</th>\n",
       "      <th>num_tl_90g_dpd_24m</th>\n",
       "      <th>num_tl_op_past_12m</th>\n",
       "      <th>pct_tl_nvr_dlq</th>\n",
       "      <th>percent_bc_gt_75</th>\n",
       "      <th>pub_rec_bankruptcies</th>\n",
       "      <th>tax_liens</th>\n",
       "      <th>tot_hi_cred_lim</th>\n",
       "      <th>total_bal_ex_mort</th>\n",
       "      <th>total_bc_limit</th>\n",
       "      <th>total_il_high_credit_limit</th>\n",
       "    </tr>\n",
       "  </thead>\n",
       "  <tbody>\n",
       "    <tr>\n",
       "      <th>421092</th>\n",
       "      <td>36271333.0</td>\n",
       "      <td>38982739.0</td>\n",
       "      <td>13000.0</td>\n",
       "      <td>13000.0</td>\n",
       "      <td>13000.0</td>\n",
       "      <td>60 months</td>\n",
       "      <td>15.99</td>\n",
       "      <td>316.07</td>\n",
       "      <td>D</td>\n",
       "      <td>5 years</td>\n",
       "      <td>...</td>\n",
       "      <td>0.0</td>\n",
       "      <td>3.0</td>\n",
       "      <td>100.0</td>\n",
       "      <td>50.0</td>\n",
       "      <td>1.0</td>\n",
       "      <td>0.0</td>\n",
       "      <td>51239.0</td>\n",
       "      <td>34178.0</td>\n",
       "      <td>10600.0</td>\n",
       "      <td>33239.0</td>\n",
       "    </tr>\n",
       "    <tr>\n",
       "      <th>421093</th>\n",
       "      <td>36490806.0</td>\n",
       "      <td>39222577.0</td>\n",
       "      <td>12000.0</td>\n",
       "      <td>12000.0</td>\n",
       "      <td>12000.0</td>\n",
       "      <td>60 months</td>\n",
       "      <td>19.99</td>\n",
       "      <td>317.86</td>\n",
       "      <td>E</td>\n",
       "      <td>1 year</td>\n",
       "      <td>...</td>\n",
       "      <td>1.0</td>\n",
       "      <td>2.0</td>\n",
       "      <td>95.0</td>\n",
       "      <td>66.7</td>\n",
       "      <td>0.0</td>\n",
       "      <td>0.0</td>\n",
       "      <td>96919.0</td>\n",
       "      <td>58418.0</td>\n",
       "      <td>9700.0</td>\n",
       "      <td>69919.0</td>\n",
       "    </tr>\n",
       "    <tr>\n",
       "      <th>421094</th>\n",
       "      <td>36271262.0</td>\n",
       "      <td>38982659.0</td>\n",
       "      <td>20000.0</td>\n",
       "      <td>20000.0</td>\n",
       "      <td>20000.0</td>\n",
       "      <td>36 months</td>\n",
       "      <td>11.99</td>\n",
       "      <td>664.20</td>\n",
       "      <td>B</td>\n",
       "      <td>10+ years</td>\n",
       "      <td>...</td>\n",
       "      <td>0.0</td>\n",
       "      <td>1.0</td>\n",
       "      <td>100.0</td>\n",
       "      <td>50.0</td>\n",
       "      <td>0.0</td>\n",
       "      <td>1.0</td>\n",
       "      <td>43740.0</td>\n",
       "      <td>33307.0</td>\n",
       "      <td>41700.0</td>\n",
       "      <td>0.0</td>\n",
       "    </tr>\n",
       "    <tr>\n",
       "      <th>421095</th>\n",
       "      <td>NaN</td>\n",
       "      <td>NaN</td>\n",
       "      <td>NaN</td>\n",
       "      <td>NaN</td>\n",
       "      <td>NaN</td>\n",
       "      <td>NaN</td>\n",
       "      <td>NaN</td>\n",
       "      <td>NaN</td>\n",
       "      <td>NaN</td>\n",
       "      <td>NaN</td>\n",
       "      <td>...</td>\n",
       "      <td>NaN</td>\n",
       "      <td>NaN</td>\n",
       "      <td>NaN</td>\n",
       "      <td>NaN</td>\n",
       "      <td>NaN</td>\n",
       "      <td>NaN</td>\n",
       "      <td>NaN</td>\n",
       "      <td>NaN</td>\n",
       "      <td>NaN</td>\n",
       "      <td>NaN</td>\n",
       "    </tr>\n",
       "    <tr>\n",
       "      <th>421096</th>\n",
       "      <td>NaN</td>\n",
       "      <td>NaN</td>\n",
       "      <td>NaN</td>\n",
       "      <td>NaN</td>\n",
       "      <td>NaN</td>\n",
       "      <td>NaN</td>\n",
       "      <td>NaN</td>\n",
       "      <td>NaN</td>\n",
       "      <td>NaN</td>\n",
       "      <td>NaN</td>\n",
       "      <td>...</td>\n",
       "      <td>NaN</td>\n",
       "      <td>NaN</td>\n",
       "      <td>NaN</td>\n",
       "      <td>NaN</td>\n",
       "      <td>NaN</td>\n",
       "      <td>NaN</td>\n",
       "      <td>NaN</td>\n",
       "      <td>NaN</td>\n",
       "      <td>NaN</td>\n",
       "      <td>NaN</td>\n",
       "    </tr>\n",
       "  </tbody>\n",
       "</table>\n",
       "<p>5 rows × 103 columns</p>\n",
       "</div>"
      ],
      "text/plain": [
       "                id   member_id  loan_amnt  funded_amnt  funded_amnt_inv  \\\n",
       "421092  36271333.0  38982739.0    13000.0      13000.0          13000.0   \n",
       "421093  36490806.0  39222577.0    12000.0      12000.0          12000.0   \n",
       "421094  36271262.0  38982659.0    20000.0      20000.0          20000.0   \n",
       "421095         NaN         NaN        NaN          NaN              NaN   \n",
       "421096         NaN         NaN        NaN          NaN              NaN   \n",
       "\n",
       "              term  int_rate  installment grade emp_length  \\\n",
       "421092   60 months     15.99       316.07     D    5 years   \n",
       "421093   60 months     19.99       317.86     E     1 year   \n",
       "421094   36 months     11.99       664.20     B  10+ years   \n",
       "421095         NaN       NaN          NaN   NaN        NaN   \n",
       "421096         NaN       NaN          NaN   NaN        NaN   \n",
       "\n",
       "                   ...             num_tl_90g_dpd_24m  num_tl_op_past_12m  \\\n",
       "421092             ...                            0.0                 3.0   \n",
       "421093             ...                            1.0                 2.0   \n",
       "421094             ...                            0.0                 1.0   \n",
       "421095             ...                            NaN                 NaN   \n",
       "421096             ...                            NaN                 NaN   \n",
       "\n",
       "       pct_tl_nvr_dlq percent_bc_gt_75 pub_rec_bankruptcies tax_liens  \\\n",
       "421092          100.0             50.0                  1.0       0.0   \n",
       "421093           95.0             66.7                  0.0       0.0   \n",
       "421094          100.0             50.0                  0.0       1.0   \n",
       "421095            NaN              NaN                  NaN       NaN   \n",
       "421096            NaN              NaN                  NaN       NaN   \n",
       "\n",
       "       tot_hi_cred_lim total_bal_ex_mort  total_bc_limit  \\\n",
       "421092         51239.0           34178.0         10600.0   \n",
       "421093         96919.0           58418.0          9700.0   \n",
       "421094         43740.0           33307.0         41700.0   \n",
       "421095             NaN               NaN             NaN   \n",
       "421096             NaN               NaN             NaN   \n",
       "\n",
       "        total_il_high_credit_limit  \n",
       "421092                     33239.0  \n",
       "421093                     69919.0  \n",
       "421094                         0.0  \n",
       "421095                         NaN  \n",
       "421096                         NaN  \n",
       "\n",
       "[5 rows x 103 columns]"
      ]
     },
     "execution_count": 12,
     "metadata": {},
     "output_type": "execute_result"
    }
   ],
   "source": [
    "y2015.tail()"
   ]
  },
  {
   "cell_type": "code",
   "execution_count": 13,
   "metadata": {
    "collapsed": true
   },
   "outputs": [],
   "source": [
    "y2015 = y2015[:-2]"
   ]
  },
  {
   "cell_type": "markdown",
   "metadata": {},
   "source": [
    "### Isolate the Numerical Variables"
   ]
  },
  {
   "cell_type": "code",
   "execution_count": 14,
   "metadata": {
    "collapsed": true
   },
   "outputs": [],
   "source": [
    "y2015_num = y2015._get_numeric_data()"
   ]
  },
  {
   "cell_type": "code",
   "execution_count": 15,
   "metadata": {
    "collapsed": true
   },
   "outputs": [],
   "source": [
    "y2015_cat = y2015.drop(y2015_num.columns, axis=1)"
   ]
  },
  {
   "cell_type": "code",
   "execution_count": 16,
   "metadata": {
    "collapsed": true
   },
   "outputs": [],
   "source": [
    "test = y2015_num.dropna(how='any', axis=1)"
   ]
  },
  {
   "cell_type": "markdown",
   "metadata": {},
   "source": [
    "### Scale the Numerical Variables"
   ]
  },
  {
   "cell_type": "code",
   "execution_count": 17,
   "metadata": {},
   "outputs": [
    {
     "data": {
      "text/plain": [
       "array([[  1.48578579,   1.50710837,   0.08863448, ...,  -0.42573693,\n",
       "         11.87443646,  -0.68449758],\n",
       "       [  1.52223613,   1.54425274,  -0.65804201, ...,   0.06449349,\n",
       "         -0.43306133,   0.73177985],\n",
       "       [  1.53407024,   1.55532575,   1.13864831, ...,   0.32265   ,\n",
       "          0.75281736,   0.87929026],\n",
       "       ..., \n",
       "       [ -1.86373287,  -1.83676857,  -0.26137012, ...,  -0.36768279,\n",
       "         -0.52005629,  -0.23302288],\n",
       "       [ -1.8405705 ,  -1.81310089,  -0.37803833, ...,   0.12625625,\n",
       "         -0.56126443,   0.60170125],\n",
       "       [ -1.86374037,  -1.83677647,   0.55530729, ...,  -0.38543118,\n",
       "          0.90391387,  -0.98944042]])"
      ]
     },
     "execution_count": 17,
     "metadata": {},
     "output_type": "execute_result"
    }
   ],
   "source": [
    "from sklearn.preprocessing import StandardScaler\n",
    "y2015_num_scaled = StandardScaler().fit_transform(test)\n",
    "y2015_num_scaled"
   ]
  },
  {
   "cell_type": "code",
   "execution_count": 18,
   "metadata": {},
   "outputs": [
    {
     "data": {
      "text/html": [
       "<div>\n",
       "<style>\n",
       "    .dataframe thead tr:only-child th {\n",
       "        text-align: right;\n",
       "    }\n",
       "\n",
       "    .dataframe thead th {\n",
       "        text-align: left;\n",
       "    }\n",
       "\n",
       "    .dataframe tbody tr th {\n",
       "        vertical-align: top;\n",
       "    }\n",
       "</style>\n",
       "<table border=\"1\" class=\"dataframe\">\n",
       "  <thead>\n",
       "    <tr style=\"text-align: right;\">\n",
       "      <th></th>\n",
       "      <th>id</th>\n",
       "      <th>member_id</th>\n",
       "      <th>loan_amnt</th>\n",
       "      <th>funded_amnt</th>\n",
       "      <th>funded_amnt_inv</th>\n",
       "      <th>int_rate</th>\n",
       "      <th>installment</th>\n",
       "      <th>annual_inc</th>\n",
       "      <th>dti</th>\n",
       "      <th>delinq_2yrs</th>\n",
       "      <th>...</th>\n",
       "      <th>num_tl_30dpd</th>\n",
       "      <th>num_tl_90g_dpd_24m</th>\n",
       "      <th>num_tl_op_past_12m</th>\n",
       "      <th>pct_tl_nvr_dlq</th>\n",
       "      <th>pub_rec_bankruptcies</th>\n",
       "      <th>tax_liens</th>\n",
       "      <th>tot_hi_cred_lim</th>\n",
       "      <th>total_bal_ex_mort</th>\n",
       "      <th>total_bc_limit</th>\n",
       "      <th>total_il_high_credit_limit</th>\n",
       "    </tr>\n",
       "  </thead>\n",
       "  <tbody>\n",
       "    <tr>\n",
       "      <th>0</th>\n",
       "      <td>1.485786</td>\n",
       "      <td>1.507108</td>\n",
       "      <td>0.088634</td>\n",
       "      <td>0.088634</td>\n",
       "      <td>0.089385</td>\n",
       "      <td>0.520931</td>\n",
       "      <td>-0.255135</td>\n",
       "      <td>-0.391692</td>\n",
       "      <td>0.594963</td>\n",
       "      <td>-0.374473</td>\n",
       "      <td>...</td>\n",
       "      <td>-0.05947</td>\n",
       "      <td>-0.180425</td>\n",
       "      <td>-0.092212</td>\n",
       "      <td>-1.692806</td>\n",
       "      <td>-0.345071</td>\n",
       "      <td>4.356849</td>\n",
       "      <td>0.709806</td>\n",
       "      <td>-0.425737</td>\n",
       "      <td>11.874436</td>\n",
       "      <td>-0.684498</td>\n",
       "    </tr>\n",
       "    <tr>\n",
       "      <th>1</th>\n",
       "      <td>1.522236</td>\n",
       "      <td>1.544253</td>\n",
       "      <td>-0.658042</td>\n",
       "      <td>-0.658042</td>\n",
       "      <td>-0.657587</td>\n",
       "      <td>-1.183385</td>\n",
       "      <td>-0.585173</td>\n",
       "      <td>-0.229420</td>\n",
       "      <td>0.138019</td>\n",
       "      <td>-0.374473</td>\n",
       "      <td>...</td>\n",
       "      <td>-0.05947</td>\n",
       "      <td>-0.180425</td>\n",
       "      <td>-0.092212</td>\n",
       "      <td>0.684554</td>\n",
       "      <td>-0.345071</td>\n",
       "      <td>-0.145320</td>\n",
       "      <td>-0.482558</td>\n",
       "      <td>0.064493</td>\n",
       "      <td>-0.433061</td>\n",
       "      <td>0.731780</td>\n",
       "    </tr>\n",
       "    <tr>\n",
       "      <th>2</th>\n",
       "      <td>1.534070</td>\n",
       "      <td>1.555326</td>\n",
       "      <td>1.138648</td>\n",
       "      <td>1.138648</td>\n",
       "      <td>1.139814</td>\n",
       "      <td>-1.183385</td>\n",
       "      <td>1.370997</td>\n",
       "      <td>0.433191</td>\n",
       "      <td>0.290334</td>\n",
       "      <td>-0.374473</td>\n",
       "      <td>...</td>\n",
       "      <td>-0.05947</td>\n",
       "      <td>-0.180425</td>\n",
       "      <td>-1.171044</td>\n",
       "      <td>0.684554</td>\n",
       "      <td>-0.345071</td>\n",
       "      <td>-0.145320</td>\n",
       "      <td>1.139425</td>\n",
       "      <td>0.322650</td>\n",
       "      <td>0.752817</td>\n",
       "      <td>0.879290</td>\n",
       "    </tr>\n",
       "    <tr>\n",
       "      <th>3</th>\n",
       "      <td>1.534075</td>\n",
       "      <td>1.555330</td>\n",
       "      <td>1.488653</td>\n",
       "      <td>1.488653</td>\n",
       "      <td>1.489957</td>\n",
       "      <td>-1.414950</td>\n",
       "      <td>1.699769</td>\n",
       "      <td>0.203305</td>\n",
       "      <td>0.102281</td>\n",
       "      <td>-0.374473</td>\n",
       "      <td>...</td>\n",
       "      <td>-0.05947</td>\n",
       "      <td>-0.180425</td>\n",
       "      <td>-1.171044</td>\n",
       "      <td>-0.250616</td>\n",
       "      <td>-0.345071</td>\n",
       "      <td>-0.145320</td>\n",
       "      <td>0.743408</td>\n",
       "      <td>0.462518</td>\n",
       "      <td>0.894757</td>\n",
       "      <td>-0.022203</td>\n",
       "    </tr>\n",
       "    <tr>\n",
       "      <th>4</th>\n",
       "      <td>1.537044</td>\n",
       "      <td>1.558100</td>\n",
       "      <td>-0.768877</td>\n",
       "      <td>-0.768877</td>\n",
       "      <td>-0.768466</td>\n",
       "      <td>1.688017</td>\n",
       "      <td>-0.493648</td>\n",
       "      <td>-0.297034</td>\n",
       "      <td>0.267785</td>\n",
       "      <td>-0.374473</td>\n",
       "      <td>...</td>\n",
       "      <td>-0.05947</td>\n",
       "      <td>-0.180425</td>\n",
       "      <td>5.301951</td>\n",
       "      <td>0.684554</td>\n",
       "      <td>2.245775</td>\n",
       "      <td>-0.145320</td>\n",
       "      <td>-0.765113</td>\n",
       "      <td>-0.678473</td>\n",
       "      <td>-0.879483</td>\n",
       "      <td>-0.574172</td>\n",
       "    </tr>\n",
       "  </tbody>\n",
       "</table>\n",
       "<p>5 rows × 58 columns</p>\n",
       "</div>"
      ],
      "text/plain": [
       "         id  member_id  loan_amnt  funded_amnt  funded_amnt_inv  int_rate  \\\n",
       "0  1.485786   1.507108   0.088634     0.088634         0.089385  0.520931   \n",
       "1  1.522236   1.544253  -0.658042    -0.658042        -0.657587 -1.183385   \n",
       "2  1.534070   1.555326   1.138648     1.138648         1.139814 -1.183385   \n",
       "3  1.534075   1.555330   1.488653     1.488653         1.489957 -1.414950   \n",
       "4  1.537044   1.558100  -0.768877    -0.768877        -0.768466  1.688017   \n",
       "\n",
       "   installment  annual_inc       dti  delinq_2yrs             ...              \\\n",
       "0    -0.255135   -0.391692  0.594963    -0.374473             ...               \n",
       "1    -0.585173   -0.229420  0.138019    -0.374473             ...               \n",
       "2     1.370997    0.433191  0.290334    -0.374473             ...               \n",
       "3     1.699769    0.203305  0.102281    -0.374473             ...               \n",
       "4    -0.493648   -0.297034  0.267785    -0.374473             ...               \n",
       "\n",
       "   num_tl_30dpd  num_tl_90g_dpd_24m  num_tl_op_past_12m  pct_tl_nvr_dlq  \\\n",
       "0      -0.05947           -0.180425           -0.092212       -1.692806   \n",
       "1      -0.05947           -0.180425           -0.092212        0.684554   \n",
       "2      -0.05947           -0.180425           -1.171044        0.684554   \n",
       "3      -0.05947           -0.180425           -1.171044       -0.250616   \n",
       "4      -0.05947           -0.180425            5.301951        0.684554   \n",
       "\n",
       "   pub_rec_bankruptcies  tax_liens  tot_hi_cred_lim  total_bal_ex_mort  \\\n",
       "0             -0.345071   4.356849         0.709806          -0.425737   \n",
       "1             -0.345071  -0.145320        -0.482558           0.064493   \n",
       "2             -0.345071  -0.145320         1.139425           0.322650   \n",
       "3             -0.345071  -0.145320         0.743408           0.462518   \n",
       "4              2.245775  -0.145320        -0.765113          -0.678473   \n",
       "\n",
       "   total_bc_limit  total_il_high_credit_limit  \n",
       "0       11.874436                   -0.684498  \n",
       "1       -0.433061                    0.731780  \n",
       "2        0.752817                    0.879290  \n",
       "3        0.894757                   -0.022203  \n",
       "4       -0.879483                   -0.574172  \n",
       "\n",
       "[5 rows x 58 columns]"
      ]
     },
     "execution_count": 18,
     "metadata": {},
     "output_type": "execute_result"
    }
   ],
   "source": [
    "# Convert the numerical variables array to a dataframe\n",
    "y2015_num_scaled = pd.DataFrame(y2015_num_scaled, columns = test.columns)\n",
    "y2015_num_scaled.head()"
   ]
  },
  {
   "cell_type": "code",
   "execution_count": 19,
   "metadata": {
    "collapsed": true
   },
   "outputs": [],
   "source": [
    "y2015_final = y2015_num_scaled.join(y2015_cat)"
   ]
  },
  {
   "cell_type": "code",
   "execution_count": 20,
   "metadata": {},
   "outputs": [
    {
     "data": {
      "text/plain": [
       "(421095, 74)"
      ]
     },
     "execution_count": 20,
     "metadata": {},
     "output_type": "execute_result"
    }
   ],
   "source": [
    "y2015_final.shape"
   ]
  },
  {
   "cell_type": "markdown",
   "metadata": {},
   "source": [
    "### Define the Input and Output Dataframes"
   ]
  },
  {
   "cell_type": "code",
   "execution_count": 21,
   "metadata": {},
   "outputs": [
    {
     "data": {
      "text/plain": [
       "(421095, 202)"
      ]
     },
     "execution_count": 21,
     "metadata": {},
     "output_type": "execute_result"
    }
   ],
   "source": [
    "X = y2015_final.drop('loan_status', axis=1)\n",
    "X = pd.get_dummies(X)\n",
    "X = X.dropna(axis=1)\n",
    "X.shape"
   ]
  },
  {
   "cell_type": "code",
   "execution_count": 22,
   "metadata": {
    "collapsed": true
   },
   "outputs": [],
   "source": [
    "Y = y2015_final['loan_status']"
   ]
  },
  {
   "cell_type": "markdown",
   "metadata": {},
   "source": [
    "### Define Function to Calculate Random Forest Classification and Cross-Validation Matrix"
   ]
  },
  {
   "cell_type": "code",
   "execution_count": 23,
   "metadata": {
    "collapsed": true
   },
   "outputs": [],
   "source": [
    "def crossval(input_df, target, no_folds):\n",
    "    start_time = time.time()\n",
    "    from sklearn import ensemble\n",
    "    from sklearn.model_selection import cross_val_score\n",
    "    rand_forest_class = ensemble.RandomForestClassifier()\n",
    "    cvs = cross_val_score(rand_forest_class, input_df, target, cv=no_folds)\n",
    "    print(cvs)    \n",
    "    print('Time taken: {} seconds.'.format('%.3f' % (time.time() - start_time)))\n",
    "    print('Average accuracy: {}'.format('%.3f' % cvs.mean()))"
   ]
  },
  {
   "cell_type": "markdown",
   "metadata": {},
   "source": [
    "### Calculate RFC, Cross-Validation Matrix for Initial Case - 202 Variables"
   ]
  },
  {
   "cell_type": "code",
   "execution_count": 24,
   "metadata": {},
   "outputs": [
    {
     "name": "stdout",
     "output_type": "stream",
     "text": [
      "[ 0.97708437  0.98069388  0.98162     0.98164375  0.97480408  0.97727381\n",
      "  0.96627799  0.98076421  0.97990833  0.98014535]\n",
      "Time taken: 396.929 seconds.\n",
      "Average accuracy: 0.978\n"
     ]
    }
   ],
   "source": [
    "crossval(X, Y, 10)"
   ]
  },
  {
   "cell_type": "markdown",
   "metadata": {},
   "source": [
    "### Define Function to Perform PCA and Calculate RFC, Cross-Validation Matrix"
   ]
  },
  {
   "cell_type": "code",
   "execution_count": 25,
   "metadata": {
    "collapsed": true
   },
   "outputs": [],
   "source": [
    "def PCA_and_crossval(input_df, n, target, no_folds):\n",
    "    start_time = time.time()\n",
    "    from sklearn.decomposition import PCA\n",
    "    sklearn_pca = PCA(n_components=n)\n",
    "    \n",
    "    X_sklearn = sklearn_pca.fit_transform(input_df)\n",
    "    print('The percentage of total variance in the dataset explained by each component from SKlearn PCA.\\n',\n",
    "      sklearn_pca.explained_variance_ratio_)\n",
    "    print('Time taken for PCA transform: {} seconds'.format('%.3f' % (time.time() - start_time)))\n",
    "    \n",
    "    start_time = time.time()\n",
    "    from sklearn import ensemble\n",
    "    from sklearn.model_selection import cross_val_score\n",
    "    rand_forest_class = ensemble.RandomForestClassifier()\n",
    "    cvs = cross_val_score(rand_forest_class, X_sklearn, target, cv=no_folds)\n",
    "    print(cvs)\n",
    "    print('Time taken for cross validation: {} seconds.'.format('%.3f' % (time.time() - start_time)))\n",
    "    print('Average Accuracy: {}'.format(cvs.mean()))"
   ]
  },
  {
   "cell_type": "markdown",
   "metadata": {},
   "source": [
    "### Calculate RF Classifier and CV Matrix for Test Case - 20 Components\n"
   ]
  },
  {
   "cell_type": "code",
   "execution_count": 26,
   "metadata": {},
   "outputs": [
    {
     "name": "stdout",
     "output_type": "stream",
     "text": [
      "The percentage of total variance in the dataset explained by each component from SKlearn PCA.\n",
      " [ 0.16073683  0.09389221  0.0585092   0.05573897  0.04958622  0.03681615\n",
      "  0.03403124  0.03245525  0.02979733  0.02796155  0.02753993  0.02107831\n",
      "  0.01931404  0.01726475  0.01703306  0.01586904  0.01551264  0.01541068\n",
      "  0.01513336  0.01454239]\n",
      "Time taken for PCA transform: 21.673 seconds\n",
      "[ 0.89807889  0.90406307  0.91161454  0.91512906  0.91056756  0.90726668\n",
      "  0.90448598  0.90819065  0.91578597  0.85512754]\n",
      "Time taken for cross validation: 509.012 seconds.\n",
      "Average Accuracy: 0.9030309942035697\n"
     ]
    }
   ],
   "source": [
    "PCA_and_crossval(X, 20, Y, 10)"
   ]
  },
  {
   "cell_type": "markdown",
   "metadata": {},
   "source": [
    "### Calculate RF Classifier and CV Matrix for Test Case - 50 Components"
   ]
  },
  {
   "cell_type": "code",
   "execution_count": 27,
   "metadata": {},
   "outputs": [
    {
     "name": "stdout",
     "output_type": "stream",
     "text": [
      "The percentage of total variance in the dataset explained by each component from SKlearn PCA.\n",
      " [ 0.16073683  0.09389221  0.0585092   0.05573897  0.04958622  0.03681615\n",
      "  0.03403124  0.03245525  0.02979733  0.02796155  0.02753993  0.02107831\n",
      "  0.01931409  0.01726484  0.01703307  0.01586988  0.01551281  0.01541123\n",
      "  0.01513415  0.01454253  0.0134706   0.01312234  0.01308022  0.01158762\n",
      "  0.01120916  0.01107309  0.0103477   0.00960519  0.00827796  0.00765462\n",
      "  0.00729971  0.00701053  0.00596248  0.00564765  0.0053432   0.00507199\n",
      "  0.00442489  0.00427358  0.00413887  0.00376141  0.00369982  0.00345983\n",
      "  0.00330974  0.00325521  0.00308103  0.00302739  0.00282645  0.00261204\n",
      "  0.00233453  0.00227152]\n",
      "Time taken for PCA transform: 17.115 seconds\n",
      "[ 0.96031916  0.96687326  0.96986536  0.97026905  0.97052957  0.97195441\n",
      "  0.97309364  0.96953145  0.96658513  0.95922196]\n",
      "Time taken for cross validation: 1145.174 seconds.\n",
      "Average Accuracy: 0.9678242981275347\n"
     ]
    }
   ],
   "source": [
    "PCA_and_crossval(X, 50, Y, 10)"
   ]
  },
  {
   "cell_type": "markdown",
   "metadata": {},
   "source": [
    "### Calculate RF Classifier and CV Matrix for Test Case - 10 Components"
   ]
  },
  {
   "cell_type": "code",
   "execution_count": 28,
   "metadata": {},
   "outputs": [
    {
     "name": "stdout",
     "output_type": "stream",
     "text": [
      "The percentage of total variance in the dataset explained by each component from SKlearn PCA.\n",
      " [ 0.16073683  0.09389221  0.0585092   0.05573897  0.04958622  0.03681615\n",
      "  0.03403122  0.03245524  0.02979731  0.02796143]\n",
      "Time taken for PCA transform: 9.001 seconds\n",
      "[ 0.90116597  0.91845361  0.92163568  0.922918    0.91688435  0.91308478\n",
      "  0.90529341  0.90477095  0.91858836  0.84814516]\n",
      "Time taken for cross validation: 370.136 seconds.\n",
      "Average Accuracy: 0.9070940257345164\n"
     ]
    }
   ],
   "source": [
    "PCA_and_crossval(X, 10, Y, 10)"
   ]
  },
  {
   "cell_type": "markdown",
   "metadata": {},
   "source": [
    "### Try a Correlation Matrix"
   ]
  },
  {
   "cell_type": "code",
   "execution_count": 30,
   "metadata": {
    "collapsed": true
   },
   "outputs": [],
   "source": [
    "y2015_final_dummies = pd.get_dummies(y2015_final)"
   ]
  },
  {
   "cell_type": "code",
   "execution_count": 31,
   "metadata": {
    "collapsed": true
   },
   "outputs": [],
   "source": [
    "corrmat = y2015_final_dummies.corr()"
   ]
  },
  {
   "cell_type": "code",
   "execution_count": 32,
   "metadata": {},
   "outputs": [
    {
     "data": {
      "text/plain": [
       "(209, 209)"
      ]
     },
     "execution_count": 32,
     "metadata": {},
     "output_type": "execute_result"
    }
   ],
   "source": [
    "corrmat.shape"
   ]
  },
  {
   "cell_type": "code",
   "execution_count": 33,
   "metadata": {},
   "outputs": [
    {
     "data": {
      "text/html": [
       "<div>\n",
       "<style>\n",
       "    .dataframe thead tr:only-child th {\n",
       "        text-align: right;\n",
       "    }\n",
       "\n",
       "    .dataframe thead th {\n",
       "        text-align: left;\n",
       "    }\n",
       "\n",
       "    .dataframe tbody tr th {\n",
       "        vertical-align: top;\n",
       "    }\n",
       "</style>\n",
       "<table border=\"1\" class=\"dataframe\">\n",
       "  <thead>\n",
       "    <tr style=\"text-align: right;\">\n",
       "      <th></th>\n",
       "      <th>id</th>\n",
       "      <th>member_id</th>\n",
       "      <th>loan_amnt</th>\n",
       "      <th>funded_amnt</th>\n",
       "      <th>funded_amnt_inv</th>\n",
       "      <th>int_rate</th>\n",
       "      <th>installment</th>\n",
       "      <th>annual_inc</th>\n",
       "      <th>dti</th>\n",
       "      <th>delinq_2yrs</th>\n",
       "      <th>...</th>\n",
       "      <th>last_credit_pull_d_Nov-2016</th>\n",
       "      <th>last_credit_pull_d_Oct-2015</th>\n",
       "      <th>last_credit_pull_d_Oct-2016</th>\n",
       "      <th>last_credit_pull_d_Sep-2015</th>\n",
       "      <th>last_credit_pull_d_Sep-2016</th>\n",
       "      <th>application_type_INDIVIDUAL</th>\n",
       "      <th>application_type_JOINT</th>\n",
       "      <th>verification_status_joint_Not Verified</th>\n",
       "      <th>verification_status_joint_Source Verified</th>\n",
       "      <th>verification_status_joint_Verified</th>\n",
       "    </tr>\n",
       "  </thead>\n",
       "  <tbody>\n",
       "    <tr>\n",
       "      <th>id</th>\n",
       "      <td>1.000000</td>\n",
       "      <td>0.997540</td>\n",
       "      <td>-0.008288</td>\n",
       "      <td>-0.008288</td>\n",
       "      <td>-0.008554</td>\n",
       "      <td>-0.053402</td>\n",
       "      <td>-0.012919</td>\n",
       "      <td>0.015055</td>\n",
       "      <td>0.005692</td>\n",
       "      <td>0.002300</td>\n",
       "      <td>...</td>\n",
       "      <td>-0.008433</td>\n",
       "      <td>-0.027861</td>\n",
       "      <td>-0.066300</td>\n",
       "      <td>-0.034040</td>\n",
       "      <td>-0.011424</td>\n",
       "      <td>-0.042871</td>\n",
       "      <td>0.042871</td>\n",
       "      <td>0.031699</td>\n",
       "      <td>0.015205</td>\n",
       "      <td>0.024511</td>\n",
       "    </tr>\n",
       "    <tr>\n",
       "      <th>member_id</th>\n",
       "      <td>0.997540</td>\n",
       "      <td>1.000000</td>\n",
       "      <td>-0.008620</td>\n",
       "      <td>-0.008620</td>\n",
       "      <td>-0.008885</td>\n",
       "      <td>-0.053447</td>\n",
       "      <td>-0.013274</td>\n",
       "      <td>0.014958</td>\n",
       "      <td>0.005806</td>\n",
       "      <td>0.002261</td>\n",
       "      <td>...</td>\n",
       "      <td>-0.008466</td>\n",
       "      <td>-0.027835</td>\n",
       "      <td>-0.066006</td>\n",
       "      <td>-0.033964</td>\n",
       "      <td>-0.011364</td>\n",
       "      <td>-0.043300</td>\n",
       "      <td>0.043300</td>\n",
       "      <td>0.032002</td>\n",
       "      <td>0.015380</td>\n",
       "      <td>0.024761</td>\n",
       "    </tr>\n",
       "    <tr>\n",
       "      <th>loan_amnt</th>\n",
       "      <td>-0.008288</td>\n",
       "      <td>-0.008620</td>\n",
       "      <td>1.000000</td>\n",
       "      <td>1.000000</td>\n",
       "      <td>0.999994</td>\n",
       "      <td>0.140572</td>\n",
       "      <td>0.941205</td>\n",
       "      <td>0.305734</td>\n",
       "      <td>0.006103</td>\n",
       "      <td>-0.010424</td>\n",
       "      <td>...</td>\n",
       "      <td>0.003849</td>\n",
       "      <td>-0.000398</td>\n",
       "      <td>0.009984</td>\n",
       "      <td>0.000568</td>\n",
       "      <td>-0.004610</td>\n",
       "      <td>-0.016880</td>\n",
       "      <td>0.016880</td>\n",
       "      <td>0.008359</td>\n",
       "      <td>0.007089</td>\n",
       "      <td>0.014350</td>\n",
       "    </tr>\n",
       "    <tr>\n",
       "      <th>funded_amnt</th>\n",
       "      <td>-0.008288</td>\n",
       "      <td>-0.008620</td>\n",
       "      <td>1.000000</td>\n",
       "      <td>1.000000</td>\n",
       "      <td>0.999994</td>\n",
       "      <td>0.140572</td>\n",
       "      <td>0.941205</td>\n",
       "      <td>0.305734</td>\n",
       "      <td>0.006103</td>\n",
       "      <td>-0.010424</td>\n",
       "      <td>...</td>\n",
       "      <td>0.003849</td>\n",
       "      <td>-0.000398</td>\n",
       "      <td>0.009984</td>\n",
       "      <td>0.000568</td>\n",
       "      <td>-0.004610</td>\n",
       "      <td>-0.016880</td>\n",
       "      <td>0.016880</td>\n",
       "      <td>0.008359</td>\n",
       "      <td>0.007089</td>\n",
       "      <td>0.014350</td>\n",
       "    </tr>\n",
       "    <tr>\n",
       "      <th>funded_amnt_inv</th>\n",
       "      <td>-0.008554</td>\n",
       "      <td>-0.008885</td>\n",
       "      <td>0.999994</td>\n",
       "      <td>0.999994</td>\n",
       "      <td>1.000000</td>\n",
       "      <td>0.140209</td>\n",
       "      <td>0.941187</td>\n",
       "      <td>0.305803</td>\n",
       "      <td>0.006044</td>\n",
       "      <td>-0.010448</td>\n",
       "      <td>...</td>\n",
       "      <td>0.003850</td>\n",
       "      <td>-0.000394</td>\n",
       "      <td>0.009988</td>\n",
       "      <td>0.000578</td>\n",
       "      <td>-0.004605</td>\n",
       "      <td>-0.016832</td>\n",
       "      <td>0.016832</td>\n",
       "      <td>0.008338</td>\n",
       "      <td>0.007071</td>\n",
       "      <td>0.014305</td>\n",
       "    </tr>\n",
       "  </tbody>\n",
       "</table>\n",
       "<p>5 rows × 209 columns</p>\n",
       "</div>"
      ],
      "text/plain": [
       "                       id  member_id  loan_amnt  funded_amnt  funded_amnt_inv  \\\n",
       "id               1.000000   0.997540  -0.008288    -0.008288        -0.008554   \n",
       "member_id        0.997540   1.000000  -0.008620    -0.008620        -0.008885   \n",
       "loan_amnt       -0.008288  -0.008620   1.000000     1.000000         0.999994   \n",
       "funded_amnt     -0.008288  -0.008620   1.000000     1.000000         0.999994   \n",
       "funded_amnt_inv -0.008554  -0.008885   0.999994     0.999994         1.000000   \n",
       "\n",
       "                 int_rate  installment  annual_inc       dti  delinq_2yrs  \\\n",
       "id              -0.053402    -0.012919    0.015055  0.005692     0.002300   \n",
       "member_id       -0.053447    -0.013274    0.014958  0.005806     0.002261   \n",
       "loan_amnt        0.140572     0.941205    0.305734  0.006103    -0.010424   \n",
       "funded_amnt      0.140572     0.941205    0.305734  0.006103    -0.010424   \n",
       "funded_amnt_inv  0.140209     0.941187    0.305803  0.006044    -0.010448   \n",
       "\n",
       "                                ...                  \\\n",
       "id                              ...                   \n",
       "member_id                       ...                   \n",
       "loan_amnt                       ...                   \n",
       "funded_amnt                     ...                   \n",
       "funded_amnt_inv                 ...                   \n",
       "\n",
       "                 last_credit_pull_d_Nov-2016  last_credit_pull_d_Oct-2015  \\\n",
       "id                                 -0.008433                    -0.027861   \n",
       "member_id                          -0.008466                    -0.027835   \n",
       "loan_amnt                           0.003849                    -0.000398   \n",
       "funded_amnt                         0.003849                    -0.000398   \n",
       "funded_amnt_inv                     0.003850                    -0.000394   \n",
       "\n",
       "                 last_credit_pull_d_Oct-2016  last_credit_pull_d_Sep-2015  \\\n",
       "id                                 -0.066300                    -0.034040   \n",
       "member_id                          -0.066006                    -0.033964   \n",
       "loan_amnt                           0.009984                     0.000568   \n",
       "funded_amnt                         0.009984                     0.000568   \n",
       "funded_amnt_inv                     0.009988                     0.000578   \n",
       "\n",
       "                 last_credit_pull_d_Sep-2016  application_type_INDIVIDUAL  \\\n",
       "id                                 -0.011424                    -0.042871   \n",
       "member_id                          -0.011364                    -0.043300   \n",
       "loan_amnt                          -0.004610                    -0.016880   \n",
       "funded_amnt                        -0.004610                    -0.016880   \n",
       "funded_amnt_inv                    -0.004605                    -0.016832   \n",
       "\n",
       "                 application_type_JOINT  \\\n",
       "id                             0.042871   \n",
       "member_id                      0.043300   \n",
       "loan_amnt                      0.016880   \n",
       "funded_amnt                    0.016880   \n",
       "funded_amnt_inv                0.016832   \n",
       "\n",
       "                 verification_status_joint_Not Verified  \\\n",
       "id                                             0.031699   \n",
       "member_id                                      0.032002   \n",
       "loan_amnt                                      0.008359   \n",
       "funded_amnt                                    0.008359   \n",
       "funded_amnt_inv                                0.008338   \n",
       "\n",
       "                 verification_status_joint_Source Verified  \\\n",
       "id                                                0.015205   \n",
       "member_id                                         0.015380   \n",
       "loan_amnt                                         0.007089   \n",
       "funded_amnt                                       0.007089   \n",
       "funded_amnt_inv                                   0.007071   \n",
       "\n",
       "                 verification_status_joint_Verified  \n",
       "id                                         0.024511  \n",
       "member_id                                  0.024761  \n",
       "loan_amnt                                  0.014350  \n",
       "funded_amnt                                0.014350  \n",
       "funded_amnt_inv                            0.014305  \n",
       "\n",
       "[5 rows x 209 columns]"
      ]
     },
     "execution_count": 33,
     "metadata": {},
     "output_type": "execute_result"
    }
   ],
   "source": [
    "corrmat.head()"
   ]
  },
  {
   "cell_type": "markdown",
   "metadata": {},
   "source": [
    "### Isolate all Variables Related to the Outcome - i.e. Loan Status"
   ]
  },
  {
   "cell_type": "code",
   "execution_count": 34,
   "metadata": {
    "collapsed": true
   },
   "outputs": [],
   "source": [
    "loan_statuses = ['loan_status_Fully Paid', 'loan_status_Current', 'loan_status_Charged Off', 'loan_status_Late (31-120 days)', 'loan_status_In Grace Period', 'loan_status_Default', 'loan_status_Late (16-30 days)']"
   ]
  },
  {
   "cell_type": "code",
   "execution_count": 35,
   "metadata": {},
   "outputs": [
    {
     "data": {
      "text/html": [
       "<div>\n",
       "<style>\n",
       "    .dataframe thead tr:only-child th {\n",
       "        text-align: right;\n",
       "    }\n",
       "\n",
       "    .dataframe thead th {\n",
       "        text-align: left;\n",
       "    }\n",
       "\n",
       "    .dataframe tbody tr th {\n",
       "        vertical-align: top;\n",
       "    }\n",
       "</style>\n",
       "<table border=\"1\" class=\"dataframe\">\n",
       "  <thead>\n",
       "    <tr style=\"text-align: right;\">\n",
       "      <th></th>\n",
       "      <th>loan_status_Fully Paid</th>\n",
       "      <th>loan_status_Current</th>\n",
       "      <th>loan_status_Charged Off</th>\n",
       "      <th>loan_status_Late (31-120 days)</th>\n",
       "      <th>loan_status_In Grace Period</th>\n",
       "      <th>loan_status_Default</th>\n",
       "      <th>loan_status_Late (16-30 days)</th>\n",
       "    </tr>\n",
       "  </thead>\n",
       "  <tbody>\n",
       "    <tr>\n",
       "      <th>id</th>\n",
       "      <td>-0.119724</td>\n",
       "      <td>0.146429</td>\n",
       "      <td>-0.083406</td>\n",
       "      <td>0.008371</td>\n",
       "      <td>-0.000731</td>\n",
       "      <td>0.004373</td>\n",
       "      <td>0.005020</td>\n",
       "    </tr>\n",
       "    <tr>\n",
       "      <th>member_id</th>\n",
       "      <td>-0.119457</td>\n",
       "      <td>0.146156</td>\n",
       "      <td>-0.083382</td>\n",
       "      <td>0.008412</td>\n",
       "      <td>-0.000748</td>\n",
       "      <td>0.004429</td>\n",
       "      <td>0.005096</td>\n",
       "    </tr>\n",
       "    <tr>\n",
       "      <th>loan_amnt</th>\n",
       "      <td>-0.033211</td>\n",
       "      <td>0.015382</td>\n",
       "      <td>0.011895</td>\n",
       "      <td>0.009339</td>\n",
       "      <td>0.011779</td>\n",
       "      <td>0.001988</td>\n",
       "      <td>0.009891</td>\n",
       "    </tr>\n",
       "    <tr>\n",
       "      <th>funded_amnt</th>\n",
       "      <td>-0.033211</td>\n",
       "      <td>0.015382</td>\n",
       "      <td>0.011895</td>\n",
       "      <td>0.009339</td>\n",
       "      <td>0.011779</td>\n",
       "      <td>0.001988</td>\n",
       "      <td>0.009891</td>\n",
       "    </tr>\n",
       "    <tr>\n",
       "      <th>funded_amnt_inv</th>\n",
       "      <td>-0.033178</td>\n",
       "      <td>0.015401</td>\n",
       "      <td>0.011844</td>\n",
       "      <td>0.009298</td>\n",
       "      <td>0.011769</td>\n",
       "      <td>0.001965</td>\n",
       "      <td>0.009872</td>\n",
       "    </tr>\n",
       "  </tbody>\n",
       "</table>\n",
       "</div>"
      ],
      "text/plain": [
       "                 loan_status_Fully Paid  loan_status_Current  \\\n",
       "id                            -0.119724             0.146429   \n",
       "member_id                     -0.119457             0.146156   \n",
       "loan_amnt                     -0.033211             0.015382   \n",
       "funded_amnt                   -0.033211             0.015382   \n",
       "funded_amnt_inv               -0.033178             0.015401   \n",
       "\n",
       "                 loan_status_Charged Off  loan_status_Late (31-120 days)  \\\n",
       "id                             -0.083406                        0.008371   \n",
       "member_id                      -0.083382                        0.008412   \n",
       "loan_amnt                       0.011895                        0.009339   \n",
       "funded_amnt                     0.011895                        0.009339   \n",
       "funded_amnt_inv                 0.011844                        0.009298   \n",
       "\n",
       "                 loan_status_In Grace Period  loan_status_Default  \\\n",
       "id                                 -0.000731             0.004373   \n",
       "member_id                          -0.000748             0.004429   \n",
       "loan_amnt                           0.011779             0.001988   \n",
       "funded_amnt                         0.011779             0.001988   \n",
       "funded_amnt_inv                     0.011769             0.001965   \n",
       "\n",
       "                 loan_status_Late (16-30 days)  \n",
       "id                                    0.005020  \n",
       "member_id                             0.005096  \n",
       "loan_amnt                             0.009891  \n",
       "funded_amnt                           0.009891  \n",
       "funded_amnt_inv                       0.009872  "
      ]
     },
     "execution_count": 35,
     "metadata": {},
     "output_type": "execute_result"
    }
   ],
   "source": [
    "corrmat_stat = corrmat[loan_statuses]\n",
    "corrmat_stat.head()"
   ]
  },
  {
   "cell_type": "code",
   "execution_count": 36,
   "metadata": {},
   "outputs": [
    {
     "data": {
      "text/plain": [
       "-0.039670003942653194"
      ]
     },
     "execution_count": 36,
     "metadata": {},
     "output_type": "execute_result"
    }
   ],
   "source": [
    "# Test whether this command will give the expected output:\n",
    "# The sum of all values across row 0\n",
    "sum(corrmat_stat.iloc[0])"
   ]
  },
  {
   "cell_type": "code",
   "execution_count": 37,
   "metadata": {
    "scrolled": true
   },
   "outputs": [
    {
     "name": "stderr",
     "output_type": "stream",
     "text": [
      "C:\\Users\\fergu\\Anaconda3\\lib\\site-packages\\ipykernel_launcher.py:2: SettingWithCopyWarning: \n",
      "A value is trying to be set on a copy of a slice from a DataFrame.\n",
      "Try using .loc[row_indexer,col_indexer] = value instead\n",
      "\n",
      "See the caveats in the documentation: http://pandas.pydata.org/pandas-docs/stable/indexing.html#indexing-view-versus-copy\n",
      "  \n"
     ]
    },
    {
     "data": {
      "text/html": [
       "<div>\n",
       "<style>\n",
       "    .dataframe thead tr:only-child th {\n",
       "        text-align: right;\n",
       "    }\n",
       "\n",
       "    .dataframe thead th {\n",
       "        text-align: left;\n",
       "    }\n",
       "\n",
       "    .dataframe tbody tr th {\n",
       "        vertical-align: top;\n",
       "    }\n",
       "</style>\n",
       "<table border=\"1\" class=\"dataframe\">\n",
       "  <thead>\n",
       "    <tr style=\"text-align: right;\">\n",
       "      <th></th>\n",
       "      <th>loan_status_Fully Paid</th>\n",
       "      <th>loan_status_Current</th>\n",
       "      <th>loan_status_Charged Off</th>\n",
       "      <th>loan_status_Late (31-120 days)</th>\n",
       "      <th>loan_status_In Grace Period</th>\n",
       "      <th>loan_status_Default</th>\n",
       "      <th>loan_status_Late (16-30 days)</th>\n",
       "      <th>agg</th>\n",
       "    </tr>\n",
       "  </thead>\n",
       "  <tbody>\n",
       "    <tr>\n",
       "      <th>id</th>\n",
       "      <td>-0.119724</td>\n",
       "      <td>0.146429</td>\n",
       "      <td>-0.083406</td>\n",
       "      <td>0.008371</td>\n",
       "      <td>-0.000731</td>\n",
       "      <td>0.004373</td>\n",
       "      <td>0.005020</td>\n",
       "      <td>-0.039670</td>\n",
       "    </tr>\n",
       "    <tr>\n",
       "      <th>member_id</th>\n",
       "      <td>-0.119457</td>\n",
       "      <td>0.146156</td>\n",
       "      <td>-0.083382</td>\n",
       "      <td>0.008412</td>\n",
       "      <td>-0.000748</td>\n",
       "      <td>0.004429</td>\n",
       "      <td>0.005096</td>\n",
       "      <td>-0.039494</td>\n",
       "    </tr>\n",
       "    <tr>\n",
       "      <th>loan_amnt</th>\n",
       "      <td>-0.033211</td>\n",
       "      <td>0.015382</td>\n",
       "      <td>0.011895</td>\n",
       "      <td>0.009339</td>\n",
       "      <td>0.011779</td>\n",
       "      <td>0.001988</td>\n",
       "      <td>0.009891</td>\n",
       "      <td>0.027063</td>\n",
       "    </tr>\n",
       "    <tr>\n",
       "      <th>funded_amnt</th>\n",
       "      <td>-0.033211</td>\n",
       "      <td>0.015382</td>\n",
       "      <td>0.011895</td>\n",
       "      <td>0.009339</td>\n",
       "      <td>0.011779</td>\n",
       "      <td>0.001988</td>\n",
       "      <td>0.009891</td>\n",
       "      <td>0.027063</td>\n",
       "    </tr>\n",
       "    <tr>\n",
       "      <th>funded_amnt_inv</th>\n",
       "      <td>-0.033178</td>\n",
       "      <td>0.015401</td>\n",
       "      <td>0.011844</td>\n",
       "      <td>0.009298</td>\n",
       "      <td>0.011769</td>\n",
       "      <td>0.001965</td>\n",
       "      <td>0.009872</td>\n",
       "      <td>0.026972</td>\n",
       "    </tr>\n",
       "  </tbody>\n",
       "</table>\n",
       "</div>"
      ],
      "text/plain": [
       "                 loan_status_Fully Paid  loan_status_Current  \\\n",
       "id                            -0.119724             0.146429   \n",
       "member_id                     -0.119457             0.146156   \n",
       "loan_amnt                     -0.033211             0.015382   \n",
       "funded_amnt                   -0.033211             0.015382   \n",
       "funded_amnt_inv               -0.033178             0.015401   \n",
       "\n",
       "                 loan_status_Charged Off  loan_status_Late (31-120 days)  \\\n",
       "id                             -0.083406                        0.008371   \n",
       "member_id                      -0.083382                        0.008412   \n",
       "loan_amnt                       0.011895                        0.009339   \n",
       "funded_amnt                     0.011895                        0.009339   \n",
       "funded_amnt_inv                 0.011844                        0.009298   \n",
       "\n",
       "                 loan_status_In Grace Period  loan_status_Default  \\\n",
       "id                                 -0.000731             0.004373   \n",
       "member_id                          -0.000748             0.004429   \n",
       "loan_amnt                           0.011779             0.001988   \n",
       "funded_amnt                         0.011779             0.001988   \n",
       "funded_amnt_inv                     0.011769             0.001965   \n",
       "\n",
       "                 loan_status_Late (16-30 days)       agg  \n",
       "id                                    0.005020 -0.039670  \n",
       "member_id                             0.005096 -0.039494  \n",
       "loan_amnt                             0.009891  0.027063  \n",
       "funded_amnt                           0.009891  0.027063  \n",
       "funded_amnt_inv                       0.009872  0.026972  "
      ]
     },
     "execution_count": 37,
     "metadata": {},
     "output_type": "execute_result"
    }
   ],
   "source": [
    "# Create entire new column of the algebraic sum of each row\n",
    "corrmat_stat['agg'] = [sum(corrmat_stat.iloc[j]) for j in range(0, len(corrmat_stat))]\n",
    "corrmat_stat.head()"
   ]
  },
  {
   "cell_type": "code",
   "execution_count": 38,
   "metadata": {},
   "outputs": [
    {
     "data": {
      "text/plain": [
       "loan_status_Default                 0.887982\n",
       "loan_status_Late (16-30 days)       0.828841\n",
       "loan_status_In Grace Period         0.743873\n",
       "loan_status_Late (31-120 days)      0.625224\n",
       "loan_status_Charged Off             0.360243\n",
       "last_pymnt_d_Aug-2016               0.265382\n",
       "last_pymnt_d_Dec-2016               0.228519\n",
       "int_rate                            0.227989\n",
       "last_pymnt_d_Sep-2016               0.217299\n",
       "last_pymnt_d_Nov-2016               0.182027\n",
       "total_rec_late_fee                  0.176385\n",
       "last_pymnt_d_Oct-2016               0.175733\n",
       "collection_recovery_fee             0.167451\n",
       "recoveries                          0.166772\n",
       "last_credit_pull_d_Oct-2016         0.122148\n",
       "acc_open_past_24mths                0.119297\n",
       "num_tl_op_past_12m                  0.107263\n",
       "grade_E                             0.106415\n",
       "grade_F                             0.093645\n",
       "grade_D                             0.091356\n",
       "inq_last_6mths                      0.085546\n",
       "verification_status_Verified        0.069009\n",
       "term_ 60 months                     0.057020\n",
       "last_pymnt_d_Jun-2016               0.056134\n",
       "last_pymnt_d_Jul-2016               0.053608\n",
       "last_pymnt_d_May-2016               0.052697\n",
       "grade_G                             0.052420\n",
       "initial_list_status_f               0.048736\n",
       "home_ownership_RENT                 0.046271\n",
       "last_pymnt_d_Apr-2016               0.044270\n",
       "                                      ...   \n",
       "member_id                          -0.039494\n",
       "id                                 -0.039670\n",
       "tot_cur_bal                        -0.041470\n",
       "avg_cur_bal                        -0.046445\n",
       "home_ownership_MORTGAGE            -0.048523\n",
       "initial_list_status_w              -0.048736\n",
       "mort_acc                           -0.050053\n",
       "tot_hi_cred_lim                    -0.050925\n",
       "title_Credit card refinancing      -0.053047\n",
       "purpose_credit_card                -0.053214\n",
       "last_credit_pull_d_Jan-2017        -0.054543\n",
       "total_rev_hi_lim                   -0.054647\n",
       "last_pymnt_amnt                    -0.056710\n",
       "term_ 36 months                    -0.057020\n",
       "mo_sin_rcnt_rev_tl_op              -0.057742\n",
       "mo_sin_old_rev_tl_op               -0.059731\n",
       "mo_sin_rcnt_tl                     -0.067543\n",
       "verification_status_Not Verified   -0.071972\n",
       "total_bc_limit                     -0.077044\n",
       "loan_status_Fully Paid             -0.081143\n",
       "grade_B                            -0.090202\n",
       "total_pymnt                        -0.092797\n",
       "total_pymnt_inv                    -0.092828\n",
       "next_pymnt_d_Feb-2017              -0.096762\n",
       "total_rec_prncp                    -0.123815\n",
       "grade_A                            -0.131174\n",
       "last_pymnt_d_Jan-2017              -0.511742\n",
       "loan_status_Current                -0.688066\n",
       "policy_code                              NaN\n",
       "pymnt_plan_n                             NaN\n",
       "Name: agg, Length: 209, dtype: float64"
      ]
     },
     "execution_count": 38,
     "metadata": {},
     "output_type": "execute_result"
    }
   ],
   "source": [
    "# Sort the new column in descending order\n",
    "corrmat_stat['agg'].sort_values(ascending=False)"
   ]
  },
  {
   "cell_type": "markdown",
   "metadata": {},
   "source": [
    "### Select the Top 20 Variables in Terms of Influence on Loan Status\n",
    "Choose the top 20 variables that correlate positively with the variables denoting loan status. Ignore any variables that have loan status in their names."
   ]
  },
  {
   "cell_type": "code",
   "execution_count": 39,
   "metadata": {
    "collapsed": true
   },
   "outputs": [],
   "source": [
    "newvars20 = ['last_pymnt_d_Aug-2016', 'last_pymnt_d_Dec-2016', 'int_rate', 'last_pymnt_d_Sep-2016', 'last_pymnt_d_Nov-2016', 'total_rec_late_fee',         \n",
    "'last_pymnt_d_Oct-2016', 'collection_recovery_fee', 'recoveries', 'last_credit_pull_d_Oct-2016', 'acc_open_past_24mths', 'num_tl_op_past_12m',         \n",
    "'grade_E', 'grade_F', 'grade_D', 'inq_last_6mths', 'verification_status_Verified', 'term_ 60 months', 'last_pymnt_d_Jun-2016', 'last_pymnt_d_Jul-2016']               "
   ]
  },
  {
   "cell_type": "code",
   "execution_count": 40,
   "metadata": {
    "collapsed": true
   },
   "outputs": [],
   "source": [
    "X_20vars = X[newvars20]"
   ]
  },
  {
   "cell_type": "markdown",
   "metadata": {},
   "source": [
    "### Results for Top 20 Positively Correlated Variables\n",
    "This approach did not give very good accuracy, only 74.8%. No better than the PCA method."
   ]
  },
  {
   "cell_type": "code",
   "execution_count": 41,
   "metadata": {},
   "outputs": [
    {
     "name": "stdout",
     "output_type": "stream",
     "text": [
      "[ 0.77955879  0.76457458  0.77694664  0.77716036  0.768891    0.77107575\n",
      "  0.76380346  0.75413807  0.74997031  0.57383746]\n",
      "Time taken: 80.992 seconds.\n",
      "Average accuracy: 0.748\n"
     ]
    }
   ],
   "source": [
    "crossval(X_20vars, Y, 10)"
   ]
  },
  {
   "cell_type": "markdown",
   "metadata": {},
   "source": [
    "### Select the Top 22 NEGATIVELY CORRELATED Variables in Terms of Influence on Loan Status\n",
    "This time, we choose the top 22 variables that correlate negatively with the variables that denote loan status, again ignoring any variables that have loan status in their names."
   ]
  },
  {
   "cell_type": "code",
   "execution_count": 42,
   "metadata": {
    "collapsed": true
   },
   "outputs": [],
   "source": [
    "newvars22_neg = ['tot_cur_bal', 'avg_cur_bal', 'home_ownership_MORTGAGE', 'initial_list_status_w', 'mort_acc', 'tot_hi_cred_lim', \n",
    "                 'title_Credit card refinancing', 'purpose_credit_card', 'last_credit_pull_d_Jan-2017', 'total_rev_hi_lim', \n",
    "                 'last_pymnt_amnt', 'term_ 36 months', 'mo_sin_rcnt_rev_tl_op', 'mo_sin_old_rev_tl_op', 'mo_sin_rcnt_tl', \n",
    "                 'verification_status_Not Verified', 'total_bc_limit', 'grade_B', 'total_pymnt', \n",
    "                 'total_pymnt_inv', 'next_pymnt_d_Feb-2017', 'total_rec_prncp', 'grade_A', 'last_pymnt_d_Jan-2017']"
   ]
  },
  {
   "cell_type": "code",
   "execution_count": 43,
   "metadata": {
    "collapsed": true
   },
   "outputs": [],
   "source": [
    "X_22vars_neg = X[newvars22_neg]"
   ]
  },
  {
   "cell_type": "markdown",
   "metadata": {},
   "source": [
    "### Results for Top 22 Negatively Correlated Variables\n",
    "This time the results were surprisingly accurate, at 94.5%. The accuracy is the highest so far."
   ]
  },
  {
   "cell_type": "code",
   "execution_count": 44,
   "metadata": {},
   "outputs": [
    {
     "name": "stdout",
     "output_type": "stream",
     "text": [
      "[ 0.95198404  0.94032438  0.93859087  0.95386004  0.94013299  0.9449062\n",
      "  0.94706595  0.94428744  0.94141117  0.94430722]\n",
      "Time taken: 173.120 seconds.\n",
      "Average accuracy: 0.945\n"
     ]
    }
   ],
   "source": [
    "crossval(X_22vars_neg, Y, 10)"
   ]
  },
  {
   "cell_type": "markdown",
   "metadata": {},
   "source": [
    "### Select the Same NEGATIVELY CORRELATED Variables but Remove Those Relating to Outstanding Balance or Payment Amount\n",
    "This time, we are trying to determine whether +90% accuracy can be achieved without considering the outstanding principal or payment amount. So we remove all variables that seem to be related to those factors. This is a bit of a guessing game because some of the variable are hard to discern from their abbreviated names."
   ]
  },
  {
   "cell_type": "code",
   "execution_count": 45,
   "metadata": {
    "collapsed": true
   },
   "outputs": [],
   "source": [
    "# Define list without any variables that seem to relate to outstanding principal, payment amount:\n",
    "# Remove the following variables:\n",
    "# 'tot_cur_bal', 'avg_cur_bal', 'total_pymnt', 'total_pymnt_inv', 'last_pymnt_amnt', 'total_rec_prncp'\n",
    "newvars17_neg = ['home_ownership_MORTGAGE', 'initial_list_status_w', 'mort_acc', 'tot_hi_cred_lim', \n",
    "                 'title_Credit card refinancing', 'purpose_credit_card', 'last_credit_pull_d_Jan-2017', \n",
    "                 'total_rev_hi_lim', 'term_ 36 months', 'mo_sin_rcnt_rev_tl_op', 'mo_sin_old_rev_tl_op', \n",
    "                 'mo_sin_rcnt_tl', 'verification_status_Not Verified', 'total_bc_limit', 'grade_B',  \n",
    "                  'next_pymnt_d_Feb-2017', 'grade_A', 'last_pymnt_d_Jan-2017']"
   ]
  },
  {
   "cell_type": "code",
   "execution_count": 46,
   "metadata": {
    "collapsed": true
   },
   "outputs": [],
   "source": [
    "X_17vars_neg = X[newvars17_neg]"
   ]
  },
  {
   "cell_type": "markdown",
   "metadata": {},
   "source": [
    "### Results for Top Negatively Correlated Variables but with Balance/ Pmt Amount Variables Excluded\n",
    "Here the results were still better than with the positively correlated variables, at 85.5%, but below the 90% criterion."
   ]
  },
  {
   "cell_type": "code",
   "execution_count": 47,
   "metadata": {},
   "outputs": [
    {
     "name": "stdout",
     "output_type": "stream",
     "text": [
      "[ 0.86996272  0.85381492  0.84870936  0.87124504  0.84497744  0.85307528\n",
      "  0.85848631  0.84715856  0.84878999  0.85828623]\n",
      "Time taken: 121.952 seconds.\n",
      "Average accuracy: 0.855\n"
     ]
    }
   ],
   "source": [
    "crossval(X_17vars_neg, Y, 10)"
   ]
  },
  {
   "cell_type": "markdown",
   "metadata": {},
   "source": [
    "### Select ONLY Those Variables Relating to Outstanding Balance or Payment Amount\n",
    "Finally we do the analysis only on the variables that seem to relate to balance, or payment amount."
   ]
  },
  {
   "cell_type": "code",
   "execution_count": 48,
   "metadata": {
    "collapsed": true
   },
   "outputs": [],
   "source": [
    "newvars6_neg = ['tot_cur_bal', 'avg_cur_bal', 'total_pymnt', 'total_pymnt_inv', 'last_pymnt_amnt', 'total_rec_prncp']"
   ]
  },
  {
   "cell_type": "code",
   "execution_count": 49,
   "metadata": {
    "collapsed": true
   },
   "outputs": [],
   "source": [
    "X_6vars_neg = X[newvars6_neg]"
   ]
  },
  {
   "cell_type": "markdown",
   "metadata": {},
   "source": [
    "### Results for Top Negatively Correlated Variables Relating to Outstanding Balance or Payment Amount\n",
    "The results of this exceed the 90% target threshold. Thus we have successfully reduced a dataset initially containing over 100 variables, to the most important 6 variables, while retaining over 90% accuracy on average. The 76.7%  accuracy in the least accurate fold is, however, a concern, and is evidence of overfitting."
   ]
  },
  {
   "cell_type": "code",
   "execution_count": 50,
   "metadata": {},
   "outputs": [
    {
     "name": "stdout",
     "output_type": "stream",
     "text": [
      "[ 0.76162998  0.9394695   0.93863836  0.93410273  0.9275469   0.92417478\n",
      "  0.92267686  0.92182194  0.921177    0.91870517]\n",
      "Time taken: 220.817 seconds.\n",
      "Average accuracy: 0.911\n"
     ]
    }
   ],
   "source": [
    "crossval(X_6vars_neg, Y, 10)"
   ]
  }
 ],
 "metadata": {
  "kernelspec": {
   "display_name": "Python 3",
   "language": "python",
   "name": "python3"
  },
  "language_info": {
   "codemirror_mode": {
    "name": "ipython",
    "version": 3
   },
   "file_extension": ".py",
   "mimetype": "text/x-python",
   "name": "python",
   "nbconvert_exporter": "python",
   "pygments_lexer": "ipython3",
   "version": "3.6.2"
  }
 },
 "nbformat": 4,
 "nbformat_minor": 2
}
